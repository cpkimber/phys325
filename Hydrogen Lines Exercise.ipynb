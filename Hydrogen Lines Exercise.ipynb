{
 "cells": [
  {
   "cell_type": "markdown",
   "metadata": {},
   "source": [
    "## Hydrogen Lines Exercise\n",
    "### Kimber, C; Lovato, A"
   ]
  },
  {
   "cell_type": "code",
   "execution_count": 130,
   "metadata": {},
   "outputs": [],
   "source": [
    "c       = 3E8        # m/s\n",
    "h       = 6.6266E-34 # m^2kg/s\n",
    "nm_to_m = 1E-9       # m/nm\n",
    "j_to_ev = 6.2415E18  "
   ]
  },
  {
   "cell_type": "code",
   "execution_count": 131,
   "metadata": {},
   "outputs": [
    {
     "name": "stdout",
     "output_type": "stream",
     "text": [
      "Rest wavelength Energy\n",
      "======================\n",
      "  Labmda      E\n",
      "6.56E-07 m  1.89 eV\n",
      "4.86E-07 m  2.55 eV\n",
      "4.34E-07 m  2.86 eV\n",
      "4.10E-07 m  3.03 eV\n"
     ]
    }
   ],
   "source": [
    "lambda_theoretical = [410.17, 434.05, 486.13, 656.26]\n",
    "print(\"Rest wavelength Energy\")\n",
    "print(\"======================\")\n",
    "print(\"  Labmda      E\")\n",
    "for i in reversed(lambda_theoretical):\n",
    "    i *= nm_to_m\n",
    "    print(\"%2.2E m  %2.2f eV\" % (i, ((c/i)*h*j_to_ev)))"
   ]
  },
  {
   "cell_type": "code",
   "execution_count": 132,
   "metadata": {},
   "outputs": [],
   "source": [
    "def energy_difference(i,f):\n",
    "    return -13.6*(((1/i)**2)-(1/f)**2)"
   ]
  },
  {
   "cell_type": "code",
   "execution_count": 133,
   "metadata": {},
   "outputs": [
    {
     "name": "stdout",
     "output_type": "stream",
     "text": [
      "Balmer Energies\n",
      "================\n",
      "Ni  Nf     E\n",
      "3   2   1.89 eV\n",
      "4   2   2.55 eV\n",
      "5   2   2.86 eV\n",
      "6   2   3.02 eV\n"
     ]
    }
   ],
   "source": [
    "print(\"Balmer Energies\")\n",
    "print(\"================\")\n",
    "print(\"Ni  Nf     E\")\n",
    "for i in range(4):\n",
    "    print(\"%d   2   %2.2f eV\" % ((i+3), energy_difference(i+3,2)))"
   ]
  },
  {
   "cell_type": "code",
   "execution_count": 134,
   "metadata": {},
   "outputs": [
    {
     "name": "stdout",
     "output_type": "stream",
     "text": [
      "Corresponding Velocity\n",
      "======================\n",
      "1.00E+06 m/s\n",
      "1.00E+06 m/s\n",
      "1.00E+06 m/s\n",
      "1.01E+06 m/s\n"
     ]
    }
   ],
   "source": [
    "lambda_observed    = [411.54, 435.50, 487.75, 658.47]\n",
    "delta_lambda       = []\n",
    "print(\"Corresponding Velocity\")\n",
    "print(\"======================\")\n",
    "for i in range(4):\n",
    "    delta_lambda.append(lambda_observed[i]-lambda_theoretical[i])\n",
    "    print(\"%2.2E m/s\" % ((delta_lambda[i]/lambda_theoretical[i])*c))"
   ]
  },
  {
   "cell_type": "markdown",
   "metadata": {},
   "source": [
    "<h4>Questions</h4>\n",
    "\n",
    "a) The transitions correspond to the Balmer Series. The highest energy wavelength represented is Ba-$\\delta$, from N = $6$ to N = $2$\n",
    "\n",
    "b) The lines are all Doppler shifted to the same amount to about 1%. The star is moving away from Earth at about $1000$km/s, red shifting all the received light a small amount."
   ]
  }
 ],
 "metadata": {
  "kernelspec": {
   "display_name": "Python 3",
   "language": "python",
   "name": "python3"
  },
  "language_info": {
   "codemirror_mode": {
    "name": "ipython",
    "version": 3
   },
   "file_extension": ".py",
   "mimetype": "text/x-python",
   "name": "python",
   "nbconvert_exporter": "python",
   "pygments_lexer": "ipython3",
   "version": "3.6.2"
  }
 },
 "nbformat": 4,
 "nbformat_minor": 2
}
