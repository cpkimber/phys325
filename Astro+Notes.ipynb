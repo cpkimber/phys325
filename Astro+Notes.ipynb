{
 "cells": [
  {
   "cell_type": "markdown",
   "metadata": {},
   "source": [
    " <h1 align=\"center\">Equations</h1>\n",
    " \n",
    " \n",
    "Doppler Shift:\n",
    "$$\\frac{\\Delta \\lambda}{\\lambda_o} = \\frac{v_r}{c} \\qquad \\frac{\\Delta \\nu}{\\nu_o} = -\\frac{v_r}{c}$$\n",
    "Radial Velocity:\n",
    "$$v_r = v \\sin i \\cos \\omega t$$\n",
    "Parameters of circular orbit:\n",
    "$$m_1r_1 = m_2r_2 \\qquad P = \\frac{2 \\pi r}{v} \\qquad v = \\frac{2 \\pi r}{v} \\qquad \\frac{r_1}{v_1} = \\frac{r_2}{v_2}$$\n",
    "\n",
    "$$\\frac{v_1}{v_2} = \\frac{r_1}{r_2} = \\frac{m_2}{m_1} \\qquad F = \\frac{Gm_1m_2}{(r_1 + r_2)^2}$$"
   ]
  },
  {
   "cell_type": "markdown",
   "metadata": {},
   "source": [
    "<h1 align=\"center\">Chapter 5</h1>\n",
    "<h3 align=\"center\">Binary Stars and Stellar Masses</h3>\n",
    "<h4 align=\"center\">Types of Binary Stars</h4>\n",
    "<span style=\"text-decoration: underline;\">Optical Double</span> $\\rightarrow$ A pair of stars that appear close to each other in the sky as seen from Earth when viewed from an optical telecsope\n",
    "<figure>\n",
    " <img src=\"https://server239.web-hosting.com:2083/cpsess1478302115/viewer/home%2fcpkisiuj%2fimages/opt_dou.png\", alt =\"An optical double\">\n",
    "</figure>\n",
    "$$Fig.\\ 1:\\ An\\ optical\\ double$$\n",
    "\n",
    "<span style=\"text-decoration: underline;\">Visual Binary</span> $\\rightarrow$ A gravitationally bound star system that can be resolved as two stars with a telescope or unaided eye.\n",
    "\n",
    "<figure>\n",
    " <img src=\"https://server239.web-hosting.com:2083/cpsess1478302115/viewer/home%2fcpkisiuj%2fimages/vis_bin.png\">\n",
    "</figure>\n",
    "$$Fig.\\ 2:\\ A\\ visual\\ binary$$\n",
    "<span style=\"text-decoration: underline;\">Eclipsing Binary</span> $\\rightarrow$ Binary star system with an orbital plane such that they eclipse one another from the Earth's perspective.\n",
    "\n",
    "\n",
    "<span style=\"text-decoration: underline;\">Astrometric Binary</span> $\\rightarrow$ Binary detectable mostly by astrometry (Measuring motion of stars)\n",
    "\n",
    "<span style=\"text-decoration: underline;\">Spectroscopic Binary</span> $\\rightarrow$ Binary detectable by spectra\n",
    "\n",
    "<p style=\"text-indent: 5em;\">Single Line $\\rightarrow$ Spectral lines move due to doppler effect</p>\n",
    "\n",
    "<p style=\"text-indent: 5em;\">Double Line$\\rightarrow$ Observe spectral lines of 2 stars</p>"
   ]
  },
  {
   "cell_type": "markdown",
   "metadata": {},
   "source": [
    "<h4 align=\"center\">Radial Velocity</h4>\n",
    "\n",
    "Radial velocity is the change in distance between two points,$v_r = \\frac{dr}{dt}$, independent of the angle between them. If the two objects are moving apart, $r$ is increasing, and so $v_r > 0$. If the two objects are moving closer, $r$ is decreasing, so $v_r < 0$\n",
    "\n",
    "Suppose a lightsource is moving with a speed $v_s$ in a direction that makes angle $\\theta$ with the line of sight of an observer, who is also moving with speed $v_o$ in a direction $\\phi$ with the line of sight. Using components of the velocities along the line of sight, $v_s \\cos \\theta$ and $v_o \\cos \\phi$, and subtracting to get the radial velocity, we arrive at \n",
    "$$v_r = v_s \\cos \\theta - v_o \\cos \\phi$$\n"
   ]
  },
  {
   "cell_type": "markdown",
   "metadata": {},
   "source": [
    "<h4 align=\"center\">Doppler Shift</h4>\n",
    "\n",
    "\n",
    "\n",
    "Shift of frequency (or wavelength) depends solely on radial velocity $v_r$, where $c$ refers to the speed of light, and $\\lambda_o$ and $\\nu_o$ refer to rest wavelength and frequency, respectively.\n",
    "\n",
    "$$\\Delta \\lambda = \\lambda_{observed} - \\lambda_o$$\n",
    "\n",
    "$$\\Delta \\nu = \\nu_{observed} - \\nu_o$$\n",
    "\n",
    "Is given by: \n",
    "\n",
    "$$\\frac{\\Delta \\lambda}{\\lambda_o} = \\frac{v_r}{c}$$\n",
    "\n",
    "From here, it is trivial to show that\n",
    "\n",
    "$$\\frac{\\Delta \\nu}{\\nu_o} = -\\frac{v_r}{c}$$\n",
    "\n",
    "With the relation $c = \\lambda \\nu$\n",
    "\n",
    "If $v_r < 0$ we say it is <i>blueshifted.</i>\n",
    "Alternatively, if $v_r > 0$ we say it is <i>redshifted</i>. These doppler shift equations are non-relativistic, so $v_r << c$"
   ]
  },
  {
   "cell_type": "code",
   "execution_count": 10,
   "metadata": {},
   "outputs": [
    {
     "name": "stdout",
     "output_type": "stream",
     "text": [
      "The doppler shift is 2.19E-11 meters\n"
     ]
    }
   ],
   "source": [
    "##################################################\n",
    "# Doppler Shift Example                          #\n",
    "# An H-a source is moving away                   #\n",
    "# at 10km/s.                                     #\n",
    "# What is the expected doppler shift?            #\n",
    "##################################################\n",
    "\n",
    "lambda_o = 656.28E-9    # meters\n",
    "speed    = 10E3         # meters/second\n",
    "c        = 3E8          # meters/second\n",
    "\n",
    "delta_lambda = speed*lambda_o/c\n",
    "\n",
    "print(\"The doppler shift is %2.2E meters\" % delta_lambda)"
   ]
  },
  {
   "attachments": {
    "vis_bin.png": {
     "image/png": "[encoded data removed]"
    }
   },
   "cell_type": "markdown",
   "metadata": {},
   "source": [
    "![vis_bin.png](attachment:vis_bin.png)"
   ]
  },
  {
   "cell_type": "markdown",
   "metadata": {},
   "source": [
    "<h4 align=\"center\">Circular Orbits and Inclination</h4>\n",
    "\n",
    "<figure>\n",
    " <img src=\"https://server239.web-hosting.com:2083/cpsess1478302115/viewer/home%2fcpkisiuj%2fimages/inc.png\">\n",
    "</figure>\n",
    "$$Fig.\\ 3:\\ The\\ angle\\ of\\ inclination$$\n",
    "\n",
    "<span style=\"text-decoration: underline;\">Inclination</span> $\\rightarrow$ Angle between plane of sky and plane of orbit (Of multiple star system/ planetary system etc.)\n",
    "\n",
    "If a binary system has two stars orbiting in a circular orbit, their orbital speed $v$ and orbital radius $r$ are related by $\\omega = \\frac{v}{r}$. Suppose a star is moving directly away from an observer at time t = 0. At that instant, the radial velocity $v_r = v$. As the star moves, the component of its velocity along the line of sight is $v \\cos \\theta$. However, $\\theta = \\omega t$, so \n",
    "\n",
    "$$v_r = v \\cos \\omega t$$\n",
    "\n",
    "If $i$ is the angle between the plane of the orbit and the plane of the sky, then the projection of any velocity in the plane of the orbit onto the line of sight is $v \\sin i$. The angle $i$ is known as the <i>inclination</i> of the orbit. The radial velocity, then, for an orbiting star or exoplanet is\n",
    "\n",
    "$$v_r = v \\sin i \\cos \\omega t$$"
   ]
  }
 ],
 "metadata": {
  "kernelspec": {
   "display_name": "Python 3",
   "language": "python",
   "name": "python3"
  },
  "language_info": {
   "codemirror_mode": {
    "name": "ipython",
    "version": 3
   },
   "file_extension": ".py",
   "mimetype": "text/x-python",
   "name": "python",
   "nbconvert_exporter": "python",
   "pygments_lexer": "ipython3",
   "version": "3.6.1"
  }
 },
 "nbformat": 4,
 "nbformat_minor": 2
}
