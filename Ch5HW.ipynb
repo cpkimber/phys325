{
 "cells": [
  {
   "cell_type": "code",
   "execution_count": 4,
   "metadata": {},
   "outputs": [
    {
     "name": "stdout",
     "output_type": "stream",
     "text": [
      "Populating the interactive namespace from numpy and matplotlib\n"
     ]
    }
   ],
   "source": [
    "%pylab inline"
   ]
  },
  {
   "cell_type": "markdown",
   "metadata": {},
   "source": [
    "<h2 align = \"center\">Homework Chapter 5<br>\n",
    "<center>Cameron Kimber</center></h2>"
   ]
  },
  {
   "cell_type": "code",
   "execution_count": 5,
   "metadata": {},
   "outputs": [],
   "source": [
    "G = 6.673E-11               # N m^2 kg^-2\n",
    "msun = 2E30                 # kg"
   ]
  },
  {
   "cell_type": "markdown",
   "metadata": {},
   "source": [
    "<h4 align = \"center\">Problem 5.12</h4>\n",
    "\n",
    "\n",
    "For a binary system with stars of masses $5$ and $10_{\\odot}$, in circular orbits with a period of $3$ years, what is the total energy of the system?\n",
    "\n",
    "<h4 align = \"center\">Solution</h4>\n",
    "To solve this problem, first we have to find the radius, which is given by\n",
    "\n",
    "$$r = \\left(\\frac{GP^2(m_1+m_2)}{4\\pi^2}\\right)^{\\frac{1}{3}}$$\n",
    "\n",
    "Where G is the universal gravitational constant, and P is the period. We plug this result into the equation for energy of \n",
    "a circular orbit,\n",
    "\n",
    "$$E = \\frac{-Gm_1m_2}{2r}$$\n",
    "\n",
    "To find the energy is $-8.68 \\times 10^{39}J.$"
   ]
  },
  {
   "cell_type": "code",
   "execution_count": 10,
   "metadata": {},
   "outputs": [
    {
     "name": "stdout",
     "output_type": "stream",
     "text": [
      "The orbital radius is 1.49E+13 m and the orbital energy is -8.68E+39 J\n"
     ]
    }
   ],
   "source": [
    "period          = 3 * 365 * 24 * 60 * 60                 # seconds\n",
    "period_squared  = period **2                             # seconds^2\n",
    "radius          = ((G * period_squared * 15 * msun)/(4*pi**2))**(1/3)  # meters\n",
    "energy          = -(G * 50 * msun**2)/(2*r)              # Joules\n",
    "print(\"The orbital radius is %2.2E m and the orbital energy is %2.2E J\" % (r,E))"
   ]
  },
  {
   "cell_type": "markdown",
   "metadata": {},
   "source": [
    "<h4 align = \"center\">Problem 5.17</h4>\n",
    "\n",
    "A star in a circular orbit has a speed of $30$km/s. The period is $10$ years. The star is $2$ arc sec from the center of mass. How far away is the star from us?\n",
    "\n",
    "<h4 align = \"center\">Solution</h4>\n",
    "Given that we know the period of the orbit and the tangential velocity, we can find the radius of the orbit simply, \n",
    "\n",
    "$$r = \\frac{PV}{2\\pi}$$\n",
    "\n",
    "Where $P$ is the period and $V$ is the velocity. And since we know the angular distance between the star and the object it orbits, trigonometry yields the radius to be $1.48 \\times 10^{13}m$, which would put the star $1.53 \\times 10^{18}m$ distant."
   ]
  },
  {
   "cell_type": "code",
   "execution_count": 15,
   "metadata": {},
   "outputs": [
    {
     "name": "stdout",
     "output_type": "stream",
     "text": [
      "The orbital radius is 1.486E+13 m\n",
      "The distance to the sun is 1.53E+18 m\n"
     ]
    }
   ],
   "source": [
    "P = 10 * 365 * 24 * 60 * 60 # seconds\n",
    "V = 30E3                    # meters seconds^-1\n",
    "r = V * P / 2*pi\n",
    "print(\"The orbital radius is %2.3E m\" % r)\n",
    "print(\"The distance to the sun is %2.2E m\" % (r/(pi/324000)))"
   ]
  }
 ],
 "metadata": {
  "kernelspec": {
   "display_name": "Python 3",
   "language": "python",
   "name": "python3"
  },
  "language_info": {
   "codemirror_mode": {
    "name": "ipython",
    "version": 3
   },
   "file_extension": ".py",
   "mimetype": "text/x-python",
   "name": "python",
   "nbconvert_exporter": "python",
   "pygments_lexer": "ipython3",
   "version": "3.6.2"
  }
 },
 "nbformat": 4,
 "nbformat_minor": 2
}
