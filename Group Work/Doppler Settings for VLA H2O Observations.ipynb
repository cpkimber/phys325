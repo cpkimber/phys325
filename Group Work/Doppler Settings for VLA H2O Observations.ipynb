{
 "cells": [
  {
   "cell_type": "markdown",
   "metadata": {},
   "source": [
    "## Doppler Settings for VLA $H_2O$ Observations\n",
    "### Kimber, C; Lovato, A"
   ]
  },
  {
   "cell_type": "code",
   "execution_count": 3,
   "metadata": {},
   "outputs": [
    {
     "name": "stdout",
     "output_type": "stream",
     "text": [
      "Populating the interactive namespace from numpy and matplotlib\n"
     ]
    }
   ],
   "source": [
    "pylab inline"
   ]
  },
  {
   "cell_type": "code",
   "execution_count": 4,
   "metadata": {},
   "outputs": [],
   "source": [
    "nu0_h2o       = 22235.0798E-3     # Ghz\n",
    "sun_lsr       = 20E3              # m/s\n",
    "lkha234_lsr   = 14E3              # m/s\n",
    "m_per_au      = 1.496E11          # m/au\n",
    "orbital_circ  = m_per_au * 2 * pi # m\n",
    "day           = 24 * 3600         # sec\n",
    "year          = 365 * day         # sec\n",
    "orbital_vel   = orbital_circ/year # m/s\n",
    "earth_circ    = 2 * pi * 6400E3   # m\n",
    "rot_vel       = earth_circ/day    # m/s\n",
    "c             = 3E8               # m/s"
   ]
  },
  {
   "cell_type": "code",
   "execution_count": 5,
   "metadata": {},
   "outputs": [
    {
     "name": "stdout",
     "output_type": "stream",
     "text": [
      "The maximum velocity of the rotation of the Earth is 4.65E+02 m/s\n",
      "And the maximum velocity of Earth's orbit is 2.98E+04 m/s\n"
     ]
    }
   ],
   "source": [
    "print(\"The maximum velocity of the rotation of the Earth is %2.2E m/s\" % rot_vel)\n",
    "print(\"And the maximum velocity of Earth's orbit is %2.2E m/s\" % orbital_vel)"
   ]
  },
  {
   "cell_type": "code",
   "execution_count": 7,
   "metadata": {},
   "outputs": [
    {
     "name": "stdout",
     "output_type": "stream",
     "text": [
      "The maximum doppler shift is -4.76E-03 GHz.\n",
      "The minumum bandwidth we should observe with is between 22.2303 GHz and 22.2398 GHz\n"
     ]
    }
   ],
   "source": [
    "v_max         = sun_lsr + lkha234_lsr + orbital_vel + rot_vel\n",
    "delta_nu_max  = nu0_h2o * (-v_max/c)\n",
    "print(\"The maximum doppler shift is %2.2E GHz.\" % delta_nu_max)\n",
    "print(\"The minumum bandwidth we should observe with is between %2.4f GHz and %3.4f GHz\" % (nu0_h2o + delta_nu_max, nu0_h2o - delta_nu_max))"
   ]
  },
  {
   "cell_type": "markdown",
   "metadata": {},
   "source": [
    "Given that $$\\frac{\\Delta \\nu}{\\nu_o} = \\frac{-v}{c}$$ \n",
    "\n",
    "And given that the rest frequency of $H_2O$, according to NASA, is 22.3 GHz, we were tasked with finding the minimum bandwidth for the VLA to observe the young star LkH$\\alpha$. We know the motion of the star with respect to the local standard of rest is 14 km/s and we know the motion of the sun with respect to the local standard of rest is 20 km/s. First we find the maximum orbital and rotational velocities of the Earth, which are calculated in the section labeled 'Constants'. Next, we find the absolute maximum velocity the Earth could have away from the star, and calculate how that would affect the observed frequency. Finally, we just add and subtract that maximum frequency shift from the rest frequency of water to find our observing bandwidth.\n",
    "\n",
    "We found $\\Delta \\nu_{max}$ was $4.76 \\times 10^{-3}$GHz, so we should observe between $22.2303$ and $22.2398$ GHz."
   ]
  }
 ],
 "metadata": {
  "kernelspec": {
   "display_name": "Python 3",
   "language": "python",
   "name": "python3"
  },
  "language_info": {
   "codemirror_mode": {
    "name": "ipython",
    "version": 3
   },
   "file_extension": ".py",
   "mimetype": "text/x-python",
   "name": "python",
   "nbconvert_exporter": "python",
   "pygments_lexer": "ipython3",
   "version": "3.6.2"
  }
 },
 "nbformat": 4,
 "nbformat_minor": 2
}
